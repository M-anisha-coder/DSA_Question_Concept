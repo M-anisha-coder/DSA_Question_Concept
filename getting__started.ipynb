{
  "nbformat": 4,
  "nbformat_minor": 0,
  "metadata": {
    "colab": {
      "provenance": [],
      "collapsed_sections": [
        "eIqUVXNbtb2y"
      ]
    },
    "kernelspec": {
      "name": "python3",
      "display_name": "Python 3"
    },
    "language_info": {
      "name": "python"
    }
  },
  "cells": [
    {
      "cell_type": "markdown",
      "source": [
        "## ***Getting started***\n",
        "1. Positive or Negative number: C | C++ |  Java | Python  \n",
        "2. Even or Odd number: C | C++ | Java | Python\n",
        "3. Sum of First N Natural numbers:  C | C++ | Java | Python\n",
        "4. Sum of N natural numbers:  C | C++ | Java | Python\n",
        "5. Sum of numbers in a given range: C | C++ | Java  | Python\n",
        "6. Greatest of two numbers: C | C++ | Java | Python\n",
        "7. Greatest of the Three numbers: C | C++ | Java | Python\n",
        "8. Leap year or not: C | C++ | Java | Python\n",
        "9. Prime number within a given range: C | C++ | Java | Python\n",
        "10. Sum of digits of a number: C | C++ | Java | Python \n",
        "11. Reverse of a number : C | C++ | Java | Python\n",
        "12. Palindrome number: C | C++ | Java | Python\n",
        "13. Armstrong number : C | C++ | Java | Python\n",
        "14. Armstrong number in a given range : C | C++ | Java | Python\n",
        "15. Fibonacci Series upto nth term : C | C++ | Java | Python\n",
        "16. Find the Nth Term of the Fibonacci Series : C | C++ | Java | Python\n",
        "17. Factorial of a number : C | C++ | Java | Python\n",
        "18. Power of a number : C | C++ | Java | Python\n",
        "19. Factor of a number : C | C++ | Java | Python\n",
        "20. Finding Prime Factors of a number : C | C++ | Java | Python\n",
        "21. Strong number : C | C++ | Java | Python\n",
        "22. Perfect number : C | C++ | Java | Python\n",
        "23. Perfect Square : C | C++ | Java | Python\n",
        "24. Automorphic number : C | C++ | Java | Python\n",
        "23. Harshad number : C | C++ | Java | Python\n",
        "23. Abundant number : C| C++ | Java | Python\n",
        "23. Friendly pair : C | C++ |   Java | Python\n",
        "\n",
        "\n",
        "\n",
        "\n",
        "\n",
        "\n",
        "\n",
        "\n",
        "\n",
        "\n",
        "\n",
        "\n",
        "\n",
        "\n",
        "\n",
        "\n",
        "\n",
        "\n",
        "\n",
        "\n",
        "\n",
        "\n",
        "\n",
        "\n",
        "\n",
        "\n",
        "\n",
        "\n"
      ],
      "metadata": {
        "id": "eIqUVXNbtb2y"
      }
    },
    {
      "cell_type": "markdown",
      "source": [
        "#1 program to check whether number is positive ,negative or Zero."
      ],
      "metadata": {
        "id": "8aML4PYWFo4Q"
      }
    },
    {
      "cell_type": "code",
      "source": [
        "def is_neg_or_pos(n):\n",
        "  if n>=0:\n",
        "    if n==0:\n",
        "      return \"Zero\"\n",
        "    else:\n",
        "      return \"Positive\"\n",
        "  else:\n",
        "    return \"Negative\"\n",
        "\n",
        "print(is_neg_or_pos(9))\n",
        "print(is_neg_or_pos(0))\n",
        "print(is_neg_or_pos(-45))\n",
        "\n",
        "\n",
        "\n",
        "def is_po_ne(n):\n",
        "  return \"positive\" if n>=0 else \"negative\"\n",
        "is_po_ne(4)"
      ],
      "metadata": {
        "colab": {
          "base_uri": "https://localhost:8080/",
          "height": 88
        },
        "id": "0dwQovZMEYX5",
        "outputId": "acfe8d15-aa59-425c-80f5-97475d91225f"
      },
      "execution_count": null,
      "outputs": [
        {
          "output_type": "stream",
          "name": "stdout",
          "text": [
            "Positive\n",
            "Zero\n",
            "Negative\n"
          ]
        },
        {
          "output_type": "execute_result",
          "data": {
            "text/plain": [
              "'positive'"
            ],
            "application/vnd.google.colaboratory.intrinsic+json": {
              "type": "string"
            }
          },
          "metadata": {},
          "execution_count": 3
        }
      ]
    },
    {
      "cell_type": "markdown",
      "source": [
        "#2 Program to check whether number is even or odd"
      ],
      "metadata": {
        "id": "XccESlC-Gu_B"
      }
    },
    {
      "cell_type": "code",
      "source": [
        "def is_even_number(n):\n",
        "  if n%2==0:\n",
        "    return \"even\"\n",
        "  else:\n",
        "    return \"odd\"\n",
        "print(is_even_number(4))  \n",
        "print(is_even_number(9))\n",
        "\n",
        "n=int(input())\n",
        "print(\"even\" if n%2==0 else \"odd\")"
      ],
      "metadata": {
        "colab": {
          "base_uri": "https://localhost:8080/"
        },
        "id": "XOwdFeb8GGgN",
        "outputId": "17e32c82-5260-4e24-9070-306da1f04432"
      },
      "execution_count": null,
      "outputs": [
        {
          "output_type": "stream",
          "name": "stdout",
          "text": [
            "even\n",
            "odd\n"
          ]
        }
      ]
    },
    {
      "cell_type": "markdown",
      "source": [
        "#3 program to find Sum of First N Natural numbers"
      ],
      "metadata": {
        "id": "YoAEUEWyHXSd"
      }
    },
    {
      "cell_type": "code",
      "source": [
        "def N_Sum_natural(n):\n",
        " sum=0\n",
        " for i in range(1,n+1):\n",
        "   sum=sum+i\n",
        " return sum\n",
        "print(N_Sum_natural(5))\n",
        "\n",
        "\n",
        "def re_Sum_natural(n):\n",
        "  if n==1:\n",
        "    return 1\n",
        "  return n+re_Sum_natural(n-1)\n",
        "\n",
        "print(re_Sum_natural(5))"
      ],
      "metadata": {
        "colab": {
          "base_uri": "https://localhost:8080/"
        },
        "id": "psIK0WvnHKaX",
        "outputId": "25be9d3e-7b4a-4855-9341-429470bbb3eb"
      },
      "execution_count": null,
      "outputs": [
        {
          "output_type": "stream",
          "name": "stdout",
          "text": [
            "15\n",
            "15\n"
          ]
        }
      ]
    },
    {
      "cell_type": "markdown",
      "source": [
        "# 4 find the sum of number in given range"
      ],
      "metadata": {
        "id": "ABgHsbbjuZaz"
      }
    },
    {
      "cell_type": "code",
      "source": [
        "\n",
        "\n",
        "def re_sum(low,high):\n",
        "  if high==low:\n",
        "    return low\n",
        "  return high+ sum(low,high-1)\n",
        "print(sum(3,6))"
      ],
      "metadata": {
        "colab": {
          "base_uri": "https://localhost:8080/"
        },
        "id": "eA6C17GwuYY2",
        "outputId": "5e09b05c-abe9-4940-a66f-29e9134e274f"
      },
      "execution_count": null,
      "outputs": [
        {
          "output_type": "stream",
          "name": "stdout",
          "text": [
            "18\n"
          ]
        }
      ]
    },
    {
      "cell_type": "markdown",
      "source": [
        "#5 program to find Greatest of two numbers"
      ],
      "metadata": {
        "id": "eqn4sq8fJip2"
      }
    },
    {
      "cell_type": "code",
      "source": [
        "def greatest(n1,n2):\n",
        "  if n1>n2:\n",
        "    return n1\n",
        "  elif n1==n2:\n",
        "    return n1\n",
        "  else:\n",
        "    return n2\n",
        "\n",
        "print(greatest(5,5))\n",
        "print(max(3,35))"
      ],
      "metadata": {
        "colab": {
          "base_uri": "https://localhost:8080/"
        },
        "id": "sflZpLVPILR1",
        "outputId": "3920fcb1-4c79-4b80-e199-c58466299306"
      },
      "execution_count": null,
      "outputs": [
        {
          "output_type": "stream",
          "name": "stdout",
          "text": [
            "5\n",
            "35\n"
          ]
        }
      ]
    },
    {
      "cell_type": "markdown",
      "source": [
        "#6 program to find greatest of three number"
      ],
      "metadata": {
        "id": "lnzfKNXNLntk"
      }
    },
    {
      "cell_type": "code",
      "source": [
        "def greatest_3(n1 ,n2,n3):\n",
        "  if n1>=n2:\n",
        "    if n1>=n3:\n",
        "      return n1\n",
        "    else:\n",
        "      return n3\n",
        "  elif n3>=n1:\n",
        "    if n3>=n2:\n",
        "      return n3\n",
        "    else:\n",
        "      return n2\n",
        "  else:\n",
        "    return n2\n",
        "\n",
        "print(greatest_3(30,40,30))"
      ],
      "metadata": {
        "colab": {
          "base_uri": "https://localhost:8080/"
        },
        "id": "8TpUBu4m8KEE",
        "outputId": "aeb800c2-d816-4c07-96cc-fa52b3218802"
      },
      "execution_count": null,
      "outputs": [
        {
          "output_type": "stream",
          "name": "stdout",
          "text": [
            "40\n"
          ]
        }
      ]
    },
    {
      "cell_type": "markdown",
      "source": [
        "#7 Check whether year is leap year or not"
      ],
      "metadata": {
        "id": "GJX1DwbkMGJT"
      }
    },
    {
      "cell_type": "code",
      "source": [
        "def leap_year(n):\n",
        "  if (n%4==0 and n%100!=0) or (n%400==0):\n",
        "    return True\n",
        "  else:\n",
        "    return False\n",
        "n=int(input())\n",
        "leap_year(n)"
      ],
      "metadata": {
        "colab": {
          "base_uri": "https://localhost:8080/"
        },
        "id": "L2Zg6aO_MSxO",
        "outputId": "72e40328-b6d2-40ec-cdba-b43902e3a12d"
      },
      "execution_count": null,
      "outputs": [
        {
          "name": "stdout",
          "output_type": "stream",
          "text": [
            "2024\n"
          ]
        },
        {
          "output_type": "execute_result",
          "data": {
            "text/plain": [
              "True"
            ]
          },
          "metadata": {},
          "execution_count": 8
        }
      ]
    },
    {
      "cell_type": "markdown",
      "source": [
        "#8 check whether number is prime or not "
      ],
      "metadata": {
        "id": "55FuKW5uNWUO"
      }
    },
    {
      "cell_type": "code",
      "source": [
        "def is_prime(n):\n",
        "# 1 for prime 0 is not prime\n",
        "  flag=1\n",
        "  i=2\n",
        "  if n<2:\n",
        "    flag=0\n",
        "  for i in range(2,n) :\n",
        "    if(n%i==0):\n",
        "      flag=0\n",
        "  return flag\n",
        " \n",
        "is_prime(17)\n"
      ],
      "metadata": {
        "colab": {
          "base_uri": "https://localhost:8080/"
        },
        "id": "65KG9-tmNqRw",
        "outputId": "e33f6662-83e8-4dcd-e5dd-c2dee3d62941"
      },
      "execution_count": null,
      "outputs": [
        {
          "output_type": "execute_result",
          "data": {
            "text/plain": [
              "1"
            ]
          },
          "metadata": {},
          "execution_count": 2
        }
      ]
    },
    {
      "cell_type": "markdown",
      "source": [
        "#9 prime number in given range"
      ],
      "metadata": {
        "id": "rQjQoffSSkNt"
      }
    },
    {
      "cell_type": "code",
      "source": [
        "def prime_in_range(low ,high):\n",
        "  for i in range(low,high+1):\n",
        "    if is_prime(i) :\n",
        "      print(i)\n",
        "\n",
        "prime_in_range(3,90)"
      ],
      "metadata": {
        "colab": {
          "base_uri": "https://localhost:8080/"
        },
        "id": "22rLW4AlR2Ag",
        "outputId": "9039461c-cd93-4560-ccc7-fa27c4201bda"
      },
      "execution_count": null,
      "outputs": [
        {
          "output_type": "stream",
          "name": "stdout",
          "text": [
            "3\n",
            "5\n",
            "7\n",
            "11\n",
            "13\n",
            "17\n",
            "19\n",
            "23\n",
            "29\n",
            "31\n",
            "37\n",
            "41\n",
            "43\n",
            "47\n",
            "53\n",
            "59\n",
            "61\n",
            "67\n",
            "71\n",
            "73\n",
            "79\n",
            "83\n",
            "89\n"
          ]
        }
      ]
    },
    {
      "cell_type": "markdown",
      "source": [
        "#10 Sum of digits of a number"
      ],
      "metadata": {
        "id": "57XDxJMrTchm"
      }
    },
    {
      "cell_type": "code",
      "source": [
        "def sum_of_digit(n):\n",
        "  sum=0\n",
        "  while(n>0):\n",
        "    rem=n%10\n",
        "    sum=sum+rem\n",
        "    n=n//10\n",
        "  return sum\n",
        "print(sum_of_digit(568))"
      ],
      "metadata": {
        "colab": {
          "base_uri": "https://localhost:8080/"
        },
        "id": "a7hey04aSrE5",
        "outputId": "3d09a5a4-d171-42b9-a1c1-8a933679f877"
      },
      "execution_count": null,
      "outputs": [
        {
          "output_type": "stream",
          "name": "stdout",
          "text": [
            "19\n"
          ]
        }
      ]
    },
    {
      "cell_type": "markdown",
      "source": [
        "#11 Reverse of a number "
      ],
      "metadata": {
        "id": "COW3Wf4vTj-V"
      }
    },
    {
      "cell_type": "code",
      "source": [
        "def reverse(n):\n",
        "  rev=0\n",
        "  while(n>0):\n",
        "    rem=n%10\n",
        "    rev=rev*10 +rem\n",
        "    n=n//10\n",
        "  return rev\n",
        "n=int(input(\"enter the number : \"))\n",
        "print(reverse(n))"
      ],
      "metadata": {
        "colab": {
          "base_uri": "https://localhost:8080/"
        },
        "id": "mekfhbMXTjCy",
        "outputId": "14fe3855-d51d-41cf-cb10-4c76ae7d5209"
      },
      "execution_count": null,
      "outputs": [
        {
          "output_type": "stream",
          "name": "stdout",
          "text": [
            "enter the number : 2434787\n",
            "7874342\n"
          ]
        }
      ]
    },
    {
      "cell_type": "markdown",
      "source": [
        "#12 Palindrome number"
      ],
      "metadata": {
        "id": "wizAT6OEUUjv"
      }
    },
    {
      "cell_type": "code",
      "source": [
        "def palindrome(n):\n",
        "  rev=reverse(n)\n",
        "  if rev==n:\n",
        "    return 'palindrome'\n",
        "  else:\n",
        "    return \"non-palindrome\"\n",
        "\n",
        "print(palindrome(621))\n",
        "print(palindrome(121))"
      ],
      "metadata": {
        "colab": {
          "base_uri": "https://localhost:8080/"
        },
        "id": "vwH9wXucUVVY",
        "outputId": "209625ad-e0fb-4989-a25e-7d70012173cc"
      },
      "execution_count": null,
      "outputs": [
        {
          "output_type": "stream",
          "name": "stdout",
          "text": [
            "non-palindrome\n",
            "palindrome\n"
          ]
        }
      ]
    },
    {
      "cell_type": "markdown",
      "source": [
        "#13 Armstrong number "
      ],
      "metadata": {
        "id": "3ocNzG56VKwn"
      }
    },
    {
      "cell_type": "code",
      "source": [
        "def number_digi(n):\n",
        "  count=0\n",
        "  while(n>0):\n",
        "    rem=n%10\n",
        "    count=count+1\n",
        "    n=n//10\n",
        "  return count\n",
        "\n",
        "def amstrong(n,digi):\n",
        "  count=0\n",
        "  ori_num=n\n",
        "  num=0\n",
        "  while(n>0):\n",
        "    rem=n%10\n",
        "    num= num+(rem**digi)\n",
        "    n=n//10\n",
        "  if ori_num==num:\n",
        "    return \"amstrong\"\n",
        "  else:\n",
        "    return \"non- amstrong\"\n",
        "n=int(input())\n",
        "x=number_digi(n)\n",
        "print(amstrong(n,x))\n",
        "\n"
      ],
      "metadata": {
        "colab": {
          "base_uri": "https://localhost:8080/"
        },
        "id": "FNf0-P5JVOvW",
        "outputId": "90a14db4-56a1-49f2-87a0-f0a7756b24e6"
      },
      "execution_count": null,
      "outputs": [
        {
          "output_type": "stream",
          "name": "stdout",
          "text": [
            "9474\n",
            "amstrong\n"
          ]
        }
      ]
    },
    {
      "cell_type": "markdown",
      "source": [
        "#14 Fibonacci Series upto nth term "
      ],
      "metadata": {
        "id": "I_5QDj_EZrZM"
      }
    },
    {
      "cell_type": "code",
      "source": [
        "def fibo_n(a,b,n):\n",
        "  if n==0:\n",
        "    return \n",
        "  c=a+b\n",
        "  print(c)\n",
        "  fibo_n(b,c,n-1)\n",
        "n=int(input(\"enter the value : \"))\n",
        "a=0\n",
        "b=1\n",
        "print(a)\n",
        "print(b)\n",
        "fibo_n(a,b,n-2)\n",
        "\n"
      ],
      "metadata": {
        "colab": {
          "base_uri": "https://localhost:8080/"
        },
        "id": "p59jryq8bgJf",
        "outputId": "e4829d00-bb9c-4f1f-aa1c-fb397dd7703f"
      },
      "execution_count": null,
      "outputs": [
        {
          "output_type": "stream",
          "name": "stdout",
          "text": [
            "enter the value : 10\n",
            "0\n",
            "1\n",
            "1\n",
            "2\n",
            "3\n",
            "5\n",
            "8\n",
            "13\n",
            "21\n",
            "34\n"
          ]
        }
      ]
    },
    {
      "cell_type": "markdown",
      "source": [
        "#15 Find the Nth Term of the Fibonacci Series"
      ],
      "metadata": {
        "id": "MuOtl3rBbQ3U"
      }
    },
    {
      "cell_type": "code",
      "source": [
        "def fibo(n):\n",
        "  if n<=1:\n",
        "    return n\n",
        "  return fibo(n-2)+fibo(n-1)\n",
        "\n",
        "print(fibo(9))\n",
        "\n"
      ],
      "metadata": {
        "colab": {
          "base_uri": "https://localhost:8080/"
        },
        "id": "gSU5RApSZp6B",
        "outputId": "472f05f5-79a9-4ad4-f334-267e8af1acdc"
      },
      "execution_count": null,
      "outputs": [
        {
          "output_type": "stream",
          "name": "stdout",
          "text": [
            "34\n"
          ]
        }
      ]
    },
    {
      "cell_type": "markdown",
      "source": [
        "#16 Factorial of a number"
      ],
      "metadata": {
        "id": "HwwF8VALdHbf"
      }
    },
    {
      "cell_type": "code",
      "source": [
        "def fact(n):\n",
        "  if n==0 or n==1:\n",
        "    return 1\n",
        "  return n*fact(n-1)\n",
        "fact(5)"
      ],
      "metadata": {
        "colab": {
          "base_uri": "https://localhost:8080/"
        },
        "id": "d66R__XSdU0-",
        "outputId": "0398ca1f-2698-42cf-fb3c-b8d6e2a63ccd"
      },
      "execution_count": 2,
      "outputs": [
        {
          "output_type": "execute_result",
          "data": {
            "text/plain": [
              "120"
            ]
          },
          "metadata": {},
          "execution_count": 2
        }
      ]
    },
    {
      "cell_type": "markdown",
      "source": [
        "#17 Power of a number "
      ],
      "metadata": {
        "id": "MKEyh6OwdrDt"
      }
    },
    {
      "cell_type": "code",
      "source": [
        "def power1(n,p):\n",
        "  if p==0:\n",
        "    return 1\n",
        "  return n*power1(n,p-1)\n",
        "print(power1(2,5))\n",
        "\n",
        "def power2(n,p):\n",
        "  return pow(n,p)\n",
        "print(power2(2,5))"
      ],
      "metadata": {
        "colab": {
          "base_uri": "https://localhost:8080/"
        },
        "id": "nEkee9UodrtT",
        "outputId": "624ac670-e927-4650-e917-545ff89e1971"
      },
      "execution_count": null,
      "outputs": [
        {
          "output_type": "stream",
          "name": "stdout",
          "text": [
            "32\n",
            "32\n"
          ]
        }
      ]
    },
    {
      "cell_type": "markdown",
      "source": [
        "#18 Factor of a number \n"
      ],
      "metadata": {
        "id": "39k55A_be3ob"
      }
    },
    {
      "cell_type": "code",
      "source": [
        "def factor(n):\n",
        "  a=list()\n",
        "  for i in range(2,n):\n",
        "    if n%i==0:\n",
        "      a.append(i)\n",
        "  return a\n",
        "n=int(input(\"enter the number : \"))\n",
        "print(factor(n)) "
      ],
      "metadata": {
        "id": "NcLr05iDfB8Z",
        "colab": {
          "base_uri": "https://localhost:8080/"
        },
        "outputId": "29ad57d7-5c98-4663-f3f3-06bf364b5124"
      },
      "execution_count": null,
      "outputs": [
        {
          "output_type": "stream",
          "name": "stdout",
          "text": [
            "enter the number : 90\n",
            "[2, 3, 5, 6, 9, 10, 15, 18, 30, 45]\n"
          ]
        }
      ]
    },
    {
      "cell_type": "markdown",
      "source": [
        "#19 Finding Prime Factors of a number "
      ],
      "metadata": {
        "id": "BaeA3VLeLX69"
      }
    },
    {
      "cell_type": "code",
      "source": [
        "def factor_p(n):\n",
        "  a=list()\n",
        "  for i in range(2,n):\n",
        "    if n%i==0 and is_prime(i):\n",
        "      a.append(i)\n",
        "  return a\n",
        "n=int(input(\"enter the number : \"))\n",
        "print(factor_p(n)) "
      ],
      "metadata": {
        "colab": {
          "base_uri": "https://localhost:8080/"
        },
        "id": "prwO_SqELmrW",
        "outputId": "7477bca7-1c83-4a42-fa55-f270b4cecf8a"
      },
      "execution_count": null,
      "outputs": [
        {
          "output_type": "stream",
          "name": "stdout",
          "text": [
            "enter the number : 90\n",
            "[2, 3, 5]\n"
          ]
        }
      ]
    },
    {
      "cell_type": "markdown",
      "source": [
        "#20 Strong number\n",
        "Strong Numbers is a number in which the sum of the factorial of individual digits of the numbers is equal to the number itself."
      ],
      "metadata": {
        "id": "Gze6Li2jMrPB"
      }
    },
    {
      "cell_type": "code",
      "source": [
        "def strong(n):\n",
        "  sum=0\n",
        "  ls=[]\n",
        "  ori=n\n",
        "  while(n>0):\n",
        "    rem=n%10\n",
        "    ls.append(rem)\n",
        "    n=n//10\n",
        "  for i in ls:\n",
        "    sum=sum+fact(i)\n",
        "  if sum==ori:\n",
        "    return \"strong\"\n",
        "  else:\n",
        "    return  'non-strong'\n",
        "n=int(input())\n",
        "print(strong(n))"
      ],
      "metadata": {
        "id": "HlYS9ezfMxKT",
        "colab": {
          "base_uri": "https://localhost:8080/"
        },
        "outputId": "7e51a2d2-f145-4f9a-a643-666ed6431627"
      },
      "execution_count": 4,
      "outputs": [
        {
          "output_type": "stream",
          "name": "stdout",
          "text": [
            "145\n",
            "strong\n"
          ]
        }
      ]
    },
    {
      "cell_type": "markdown",
      "source": [
        "#21 Perfect number"
      ],
      "metadata": {
        "id": "SK9RAv1PMyNw"
      }
    },
    {
      "cell_type": "code",
      "source": [
        "def perfect(n):\n",
        "  sum=0\n",
        "  a=list()\n",
        "  for i in range(1,n):\n",
        "    if n%i==0 :\n",
        "      a.append(i)\n",
        "  for i in a:\n",
        "    sum=sum+i\n",
        "  if sum==n:\n",
        "    return 'perfect number'\n",
        "  else:\n",
        "    return \"non perfect\"\n",
        "  \n",
        "  \n",
        "n=int(input())\n",
        "print(perfect(n))"
      ],
      "metadata": {
        "id": "3gc704J0M26h",
        "colab": {
          "base_uri": "https://localhost:8080/"
        },
        "outputId": "71c529be-12b9-48c8-c292-98b518b5ce02"
      },
      "execution_count": null,
      "outputs": [
        {
          "output_type": "stream",
          "name": "stdout",
          "text": [
            "28\n",
            "perfect number\n"
          ]
        }
      ]
    },
    {
      "cell_type": "markdown",
      "source": [
        "#22 Perfect Square"
      ],
      "metadata": {
        "id": "y2Xm5bk1Nalu"
      }
    },
    {
      "cell_type": "code",
      "source": [
        "from math import sqrt\n",
        "def perfect_square(n):\n",
        "  if n>0:\n",
        "    x=int(sqrt(n))\n",
        "    if n==x*x:\n",
        "      return 'Yes'\n",
        "    else:\n",
        "      return \"no\"\n",
        "n=int(input())\n",
        "print(perfect_square(n))"
      ],
      "metadata": {
        "id": "qyP0du0HNhZT",
        "colab": {
          "base_uri": "https://localhost:8080/"
        },
        "outputId": "22919540-f708-41f4-b9f8-5052360b681e"
      },
      "execution_count": null,
      "outputs": [
        {
          "output_type": "stream",
          "name": "stdout",
          "text": [
            "49\n",
            "Yes\n"
          ]
        }
      ]
    },
    {
      "cell_type": "markdown",
      "source": [
        "#23 Automorphic number\n",
        "A number whose square ends with the same number is known as an Automorphic number."
      ],
      "metadata": {
        "id": "A3akbNMANjq4"
      }
    },
    {
      "cell_type": "code",
      "source": [
        "def automorphic(n):\n",
        "  x=n*n\n",
        "  mod=pow(10,len(str(n)))\n",
        "  if x%mod ==n:\n",
        "    return \"yes\"\n",
        "  else:\n",
        "    return \"no\"\n",
        "n=int(input())\n",
        "print(automorphic(n))"
      ],
      "metadata": {
        "id": "hX_f_rRUNrjf"
      },
      "execution_count": null,
      "outputs": []
    },
    {
      "cell_type": "markdown",
      "source": [
        "#24 Harshad number\n",
        "A Number that is divisible by the sum of it's digits is known as a Harshad number."
      ],
      "metadata": {
        "id": "ujHXguV0NtCQ"
      }
    },
    {
      "cell_type": "code",
      "source": [
        "def hashad(n):\n",
        "  sum=0\n",
        "  ori=n\n",
        "  while(n>0):\n",
        "    rem=n%10\n",
        "    sum=sum+rem\n",
        "    n=n//10\n",
        "  if ori%sum==0:\n",
        "    return \"harshad\"\n",
        "  else:\n",
        "    return \"non-harshad\"\n",
        "n=int(input())\n",
        "print(hashad(n))\n"
      ],
      "metadata": {
        "id": "rMdOL3z2NyIK",
        "colab": {
          "base_uri": "https://localhost:8080/"
        },
        "outputId": "cccda161-b021-4b0b-f26a-1992ca9af69d"
      },
      "execution_count": 1,
      "outputs": [
        {
          "output_type": "stream",
          "name": "stdout",
          "text": [
            "21\n",
            "harshad\n"
          ]
        }
      ]
    },
    {
      "cell_type": "markdown",
      "source": [
        "#25 Abundant number \n",
        "A Number that is smaller than the sum of all it's factors except the number itself is known as an Abundant number."
      ],
      "metadata": {
        "id": "vVBMjsj0N0Vg"
      }
    },
    {
      "cell_type": "code",
      "source": [
        "def abundant(n):\n",
        "  sum=0\n",
        "  a=list()\n",
        "  for i in range(1,n):\n",
        "    if n%i==0 :\n",
        "      a.append(i)\n",
        "  for i in a:\n",
        "    sum=sum+i\n",
        "  if sum>n:\n",
        "    return 'abundant'\n",
        "  else:\n",
        "    return \"non abundant\"\n",
        "n=int(input())\n",
        "print(abundant(n))"
      ],
      "metadata": {
        "id": "-nGrDalEN7Wz",
        "colab": {
          "base_uri": "https://localhost:8080/"
        },
        "outputId": "88979fd0-ecdb-4ad1-89a9-338b1d1053d6"
      },
      "execution_count": null,
      "outputs": [
        {
          "output_type": "stream",
          "name": "stdout",
          "text": [
            "12\n",
            "abundant\n"
          ]
        }
      ]
    },
    {
      "cell_type": "markdown",
      "source": [
        "#26 Friendly pair\n",
        "The numbers whose ( sum of divisors ) / number ratio is same are known as Friendly Pair Numbers."
      ],
      "metadata": {
        "id": "jQagalBGN8DL"
      }
    },
    {
      "cell_type": "code",
      "source": [
        "\n",
        "def facti(n):\n",
        "  sum=0\n",
        "  a=list()\n",
        "  for i in range(1,n):\n",
        "    if n%i==0 :\n",
        "      a.append(i)\n",
        "  for i in a:\n",
        "    sum=sum+i\n",
        "  return sum\n",
        "\n",
        "def friendly_pair(n1,n2):\n",
        "  x=facti(n1)\n",
        "  y=facti(n2)\n",
        "  if (int(x/n1)==(int(y/n2))):\n",
        "    return \"yes\"\n",
        "  else:\n",
        "    return \"no\"\n",
        "n1=int(input())\n",
        "n2=int(input())\n",
        "print(friendly_pair(n1,n2))"
      ],
      "metadata": {
        "id": "iVEfNqMrOCNo",
        "colab": {
          "base_uri": "https://localhost:8080/"
        },
        "outputId": "5390efde-1803-4979-9606-f437bfaf9519"
      },
      "execution_count": null,
      "outputs": [
        {
          "output_type": "stream",
          "name": "stdout",
          "text": [
            "23\n",
            "89\n",
            "yes\n"
          ]
        }
      ]
    }
  ]
}